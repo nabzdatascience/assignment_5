{
 "cells": [
  {
   "cell_type": "markdown",
   "id": "2d101523",
   "metadata": {},
   "source": [
    "Ans 1: An empty dictionary code looks like a={}"
   ]
  },
  {
   "cell_type": "markdown",
   "id": "93cc5de6",
   "metadata": {},
   "source": [
    "Ans 2:A dictionary value with key 'foo' and a value 42 look like s={'foo':42}"
   ]
  },
  {
   "cell_type": "markdown",
   "id": "09ae83e5",
   "metadata": {},
   "source": [
    "Ans 3: The main difference between a list and dictionary is that elements of a list can be accessed by their position while the items in dictionary are accessed by keys. A list is an ordered sequence of items whereas a dictionary is an unordered collection of data values."
   ]
  },
  {
   "cell_type": "markdown",
   "id": "ebb8ed33",
   "metadata": {},
   "source": [
    "Ans 4\n",
    "If spam={'bar':100} and if we try to execute spam['foo'], we will get a keyError error message\n"
   ]
  },
  {
   "cell_type": "markdown",
   "id": "63b760bc",
   "metadata": {},
   "source": [
    "Ans 5: There is no difference in the expressions because both the expressions will check if 'cat' is one of the keys in the dictionary."
   ]
  },
  {
   "cell_type": "markdown",
   "id": "ca4ce968",
   "metadata": {},
   "source": [
    "Ans 6: 'cat' in spam will check if 'cat' is a key in the dictionary while 'cat' in spam.values() will check if 'cat' is a value for one of the keys in the dictionary."
   ]
  },
  {
   "cell_type": "markdown",
   "id": "c57e2016",
   "metadata": {},
   "source": [
    "Ans 7:spam.setdefault('color','black') is a short-cut for the code if color not in spam: spam['color']='black'"
   ]
  },
  {
   "cell_type": "markdown",
   "id": "68fedf88",
   "metadata": {},
   "source": [
    "Ans 8:pprint module supports pretty-printing dictionary and makes it more readable. Within the pprint module there is a function with the same name pprint() , the function which is used to pretty-print the given dictionary values."
   ]
  }
 ],
 "metadata": {
  "kernelspec": {
   "display_name": "Python 3 (ipykernel)",
   "language": "python",
   "name": "python3"
  },
  "language_info": {
   "codemirror_mode": {
    "name": "ipython",
    "version": 3
   },
   "file_extension": ".py",
   "mimetype": "text/x-python",
   "name": "python",
   "nbconvert_exporter": "python",
   "pygments_lexer": "ipython3",
   "version": "3.9.7"
  }
 },
 "nbformat": 4,
 "nbformat_minor": 5
}
